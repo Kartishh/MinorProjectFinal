{
 "cells": [
  {
   "cell_type": "code",
   "execution_count": 1,
   "id": "c36937cb",
   "metadata": {},
   "outputs": [
    {
     "name": "stdout",
     "output_type": "stream",
     "text": [
      "🔍 Checking camera...\n",
      "✅ Camera works!\n"
     ]
    }
   ],
   "source": [
    "import cv2\n",
    "\n",
    "print(\"🔍 Checking camera...\")\n",
    "cap = cv2.VideoCapture(0)\n",
    "\n",
    "if not cap.isOpened():\n",
    "    print(\"❌ Cannot access camera.\")\n",
    "    # Try to list available cameras\n",
    "    for i in range(5):\n",
    "        test = cv2.VideoCapture(i)\n",
    "        if test.isOpened():\n",
    "            print(f\"✅ Camera available at index {i}\")\n",
    "            test.release()\n",
    "    print(\"\\nPossible fixes:\\n\"\n",
    "          \"1️⃣ Make sure no other app (like Cheese, Zoom, or browser) is using the camera.\\n\"\n",
    "          \"2️⃣ Run: sudo apt install v4l-utils ffmpeg -y\\n\"\n",
    "          \"3️⃣ Check with: v4l2-ctl --list-devices\\n\"\n",
    "          \"4️⃣ Then retry this script.\\n\")\n",
    "else:\n",
    "    print(\"✅ Camera works!\")\n",
    "    cap.release()"
   ]
  },
  {
   "cell_type": "code",
   "execution_count": 2,
   "id": "98c659cc",
   "metadata": {},
   "outputs": [
    {
     "name": "stdout",
     "output_type": "stream",
     "text": [
      "✅ Camera works!\n"
     ]
    }
   ],
   "source": [
    "import cv2\n",
    "cap = cv2.VideoCapture(0)\n",
    "if not cap.isOpened():\n",
    "    print(\"❌ Cannot access camera.\")\n",
    "else:\n",
    "    print(\"✅ Camera works!\")\n",
    "cap.release()"
   ]
  },
  {
   "cell_type": "code",
   "execution_count": null,
   "id": "955208aa",
   "metadata": {},
   "outputs": [],
   "source": []
  }
 ],
 "metadata": {
  "kernelspec": {
   "display_name": "ai-env (3.12.3)",
   "language": "python",
   "name": "python3"
  },
  "language_info": {
   "codemirror_mode": {
    "name": "ipython",
    "version": 3
   },
   "file_extension": ".py",
   "mimetype": "text/x-python",
   "name": "python",
   "nbconvert_exporter": "python",
   "pygments_lexer": "ipython3",
   "version": "3.12.3"
  }
 },
 "nbformat": 4,
 "nbformat_minor": 5
}
